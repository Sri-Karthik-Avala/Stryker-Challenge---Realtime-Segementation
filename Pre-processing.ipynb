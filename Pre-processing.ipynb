{
 "cells": [
  {
   "cell_type": "markdown",
   "id": "f5b584c0-4728-43f8-a7bf-34568956d327",
   "metadata": {},
   "source": [
    "# Extracting TrainId files from labels"
   ]
  },
  {
   "cell_type": "code",
   "execution_count": 14,
   "id": "877c9848-389b-48af-8447-6e20435930ab",
   "metadata": {},
   "outputs": [],
   "source": [
    "import os\n",
    "import shutil\n",
    "\n",
    "# Path to the parent folder containing subfolders with files\n",
    "source_parent_folder = r\"C:\\Users\\srika\\OneDrive\\Desktop\\New folder\\Final_Stryker\\Original dataset\\Labels\"\n",
    "# Path to the folder where files will be copied\n",
    "destination_parent_folder = r\"C:\\Users\\srika\\OneDrive\\Desktop\\New folder\\Final_Stryker\\Edited Dataset\\gtFine\"\n",
    "\n",
    "# Iterate through subfolders in the source parent folder\n",
    "for folder_name in os.listdir(source_parent_folder):\n",
    "    source_folder = os.path.join(source_parent_folder, folder_name)\n",
    "    destination_folder = os.path.join(destination_parent_folder, folder_name)\n",
    "\n",
    "    # Create destination folder if it doesn't exist\n",
    "    if not os.path.exists(destination_folder):\n",
    "        os.makedirs(destination_folder)\n",
    "\n",
    "    # Iterate through files in the source folder\n",
    "    for root, dirs, files in os.walk(source_folder):\n",
    "        for file in files:\n",
    "            # Check if the file name contains \"gtFine_labelIds\"\n",
    "            if \"gtFine_labelIds\" in file:\n",
    "                # Construct the full path of the source file\n",
    "                source_file_path = os.path.join(root, file)\n",
    "                \n",
    "                # Copy the file to the destination folder\n",
    "                shutil.copy(source_file_path, destination_folder)\n"
   ]
  },
  {
   "cell_type": "markdown",
   "id": "4cf5f3fa-6a51-4814-ab87-ae0c91e2f09d",
   "metadata": {},
   "source": [
    "# Making Train Test Val splits"
   ]
  },
  {
   "cell_type": "code",
   "execution_count": 20,
   "id": "d351f999-c419-456c-b996-763db777fdce",
   "metadata": {},
   "outputs": [],
   "source": [
    "import os\n",
    "import shutil\n",
    "import random\n",
    "\n",
    "def split_folders(source_dir, train_dir, val_dir, test_dir, train_ratio=0.6, val_ratio=0.2, test_ratio=0.2):\n",
    "    # Create directories if they don't exist\n",
    "    for directory in [train_dir, val_dir, test_dir]:\n",
    "        os.makedirs(directory, exist_ok=True)\n",
    "\n",
    "    # List all folders in the source directory\n",
    "    folders = [f for f in os.listdir(source_dir) if os.path.isdir(os.path.join(source_dir, f))]\n",
    "\n",
    "    # Calculate the number of folders for each split\n",
    "    num_folders = len(folders)\n",
    "    num_train = int(train_ratio * num_folders)\n",
    "    num_val = int(val_ratio * num_folders)\n",
    "    num_test = num_folders - num_train - num_val\n",
    "\n",
    "    # Assign folders to each split\n",
    "    train_folders = folders[:num_train]\n",
    "    val_folders = folders[num_train:num_train + num_val]\n",
    "    test_folders = folders[num_train + num_val:]\n",
    "\n",
    "    # Copy folders to respective directories\n",
    "    for folder in train_folders:\n",
    "        shutil.copytree(os.path.join(source_dir, folder), os.path.join(train_dir, folder))\n",
    "    for folder in val_folders:\n",
    "        shutil.copytree(os.path.join(source_dir, folder), os.path.join(val_dir, folder))\n",
    "    for folder in test_folders:\n",
    "        shutil.copytree(os.path.join(source_dir, folder), os.path.join(test_dir, folder))\n",
    "\n",
    "# Define source and destination directories\n",
    "source_dir = r\"C:\\Users\\srika\\OneDrive\\Desktop\\New folder\\Final_Stryker\\Edited Dataset\"\n",
    "destination_dir = r\"C:\\Users\\srika\\OneDrive\\Desktop\\New folder\\Final_Stryker\\data\"\n",
    "\n",
    "# Define directories for gtFine and leftImg8bit\n",
    "train_dir_gtFine = os.path.join(destination_dir, \"gtFine\", \"train\")\n",
    "val_dir_gtFine = os.path.join(destination_dir, \"gtFine\", \"val\")\n",
    "test_dir_gtFine = os.path.join(destination_dir, \"gtFine\", \"test\")\n",
    "\n",
    "train_dir_leftImg8bit = os.path.join(destination_dir, \"leftImg8bit\", \"train\")\n",
    "val_dir_leftImg8bit = os.path.join(destination_dir, \"leftImg8bit\", \"val\")\n",
    "test_dir_leftImg8bit = os.path.join(destination_dir, \"leftImg8bit\", \"test\")\n",
    "\n",
    "# Split folders for gtFine\n",
    "split_folders(os.path.join(source_dir, \"gtFine\"), train_dir_gtFine, val_dir_gtFine, test_dir_gtFine)\n",
    "\n",
    "# Split folders for leftImg8bit\n",
    "split_folders(os.path.join(source_dir, \"leftImg8bit\"), train_dir_leftImg8bit, val_dir_leftImg8bit, test_dir_leftImg8bit)\n"
   ]
  },
  {
   "cell_type": "markdown",
   "id": "3c85a5b5-9104-48cb-b9e6-19cb1568cdf7",
   "metadata": {},
   "source": []
  },
  {
   "cell_type": "code",
   "execution_count": null,
   "id": "a6cf838b-2034-4682-bb7b-cd9249fdfeb9",
   "metadata": {},
   "outputs": [],
   "source": []
  }
 ],
 "metadata": {
  "kernelspec": {
   "display_name": "Python 3 (ipykernel)",
   "language": "python",
   "name": "python3"
  },
  "language_info": {
   "codemirror_mode": {
    "name": "ipython",
    "version": 3
   },
   "file_extension": ".py",
   "mimetype": "text/x-python",
   "name": "python",
   "nbconvert_exporter": "python",
   "pygments_lexer": "ipython3",
   "version": "3.9.7"
  }
 },
 "nbformat": 4,
 "nbformat_minor": 5
}
