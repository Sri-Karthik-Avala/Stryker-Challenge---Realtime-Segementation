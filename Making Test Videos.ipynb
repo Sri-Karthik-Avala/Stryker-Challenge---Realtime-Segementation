{
 "cells": [
  {
   "cell_type": "markdown",
   "id": "84ed192f-b04d-4695-b6db-c71b544abd19",
   "metadata": {},
   "source": [
    "# Merging Original images to Video"
   ]
  },
  {
   "cell_type": "code",
   "execution_count": 13,
   "id": "5d350a07-7dbc-4937-a335-37abefbbfcf6",
   "metadata": {},
   "outputs": [
    {
     "name": "stdout",
     "output_type": "stream",
     "text": [
      "All images have been saved in the destination folder with modified filenames.\n"
     ]
    }
   ],
   "source": [
    "import os\n",
    "import re\n",
    "import shutil\n",
    "\n",
    "# Source folder path containing the images\n",
    "source_folder_path = r\"C:\\Users\\srika\\OneDrive\\Desktop\\New folder\\Final_Stryker\\data\\leftImg8bit\\val\\darmstadt\"\n",
    "\n",
    "# Destination folder path to save the modified images\n",
    "destination_folder_path = r\"C:\\Users\\srika\\OneDrive\\Desktop\\New folder\\Final_Stryker\\model Training\\tempo\\og\"\n",
    "\n",
    "# Create the destination folder if it doesn't exist\n",
    "os.makedirs(destination_folder_path, exist_ok=True)\n",
    "\n",
    "# Iterate over all the image filenames in the source folder\n",
    "for filename in os.listdir(source_folder_path):\n",
    "    # Check if the filename ends with '.png'\n",
    "    if filename.endswith('.png'):\n",
    "        # Construct the full path to the source image file\n",
    "        source_image_path = os.path.join(source_folder_path, filename)\n",
    "\n",
    "        # Extract the sequence of numbers from the image name using regular expressions\n",
    "        sequence_numbers = re.findall(r'\\d+', filename)\n",
    "\n",
    "        # Convert the sequence of numbers to a numeric value\n",
    "        numeric_value = int(''.join(sequence_numbers))\n",
    "\n",
    "        # Construct the new filename with the numeric value\n",
    "        new_filename = '{:06d}.png'.format(numeric_value)\n",
    "\n",
    "        # Construct the full path to the destination image file\n",
    "        destination_image_path = os.path.join(destination_folder_path, new_filename)\n",
    "\n",
    "        # Copy the source image file to the destination folder with the new filename\n",
    "        shutil.copyfile(source_image_path, destination_image_path)\n",
    "\n",
    "print(\"All images have been saved in the destination folder with modified filenames.\")"
   ]
  },
  {
   "cell_type": "code",
   "execution_count": 14,
   "id": "77f7fd1f-e941-4288-9c1f-7daab333f5fe",
   "metadata": {},
   "outputs": [
    {
     "name": "stdout",
     "output_type": "stream",
     "text": [
      "Video created successfully:  C:\\Users\\srika\\OneDrive\\Desktop\\New folder\\Final_Stryker\\model Training\\val.mp4\n"
     ]
    }
   ],
   "source": [
    "import os\n",
    "import cv2\n",
    "\n",
    "def convert_frames_to_video(input_folder, output_file, fps=3):\n",
    "    '''\n",
    "    Function to write a sequence of frames into a video.\n",
    "\n",
    "    Arguments:\n",
    "        input_folder: str - path to the folder containing input images.\n",
    "        output_file: str - path to the output video file.\n",
    "        fps: int - frames per second for the output video (default is 25).\n",
    "    '''\n",
    "\n",
    "    # Get list of image files in the input folder\n",
    "    img_files = [file for file in os.listdir(input_folder) if file.endswith('.png')]\n",
    "\n",
    "    # Sort the image files based on their numeric value\n",
    "    img_files.sort(key=lambda x: int(''.join(filter(str.isdigit, x))))\n",
    "\n",
    "    # Read the first image to get frame size\n",
    "    first_img = cv2.imread(os.path.join(input_folder, img_files[0]))\n",
    "    height, width, channels = first_img.shape\n",
    "\n",
    "    # Define the codec for the video writer\n",
    "    fourcc = cv2.VideoWriter_fourcc(*'mp4v')\n",
    "\n",
    "    # Create video writer object\n",
    "    out = cv2.VideoWriter(output_file, fourcc, fps, (width, height))\n",
    "\n",
    "    # Write frames to video\n",
    "    for img_file in img_files:\n",
    "        img_path = os.path.join(input_folder, img_file)\n",
    "        img = cv2.imread(img_path)\n",
    "        out.write(img)\n",
    "\n",
    "    # Release video writer and destroy any remaining OpenCV windows\n",
    "    out.release()\n",
    "    cv2.destroyAllWindows()\n",
    "\n",
    "    print(\"Video created successfully: \", output_file)\n",
    "\n",
    "if __name__ == '__main__':\n",
    "    # Input and output file paths\n",
    "    input_folder_path = r\"C:\\Users\\srika\\OneDrive\\Desktop\\New folder\\Final_Stryker\\model Training\\tempo\\og\"\n",
    "    output_video_path = r\"C:\\Users\\srika\\OneDrive\\Desktop\\New folder\\Final_Stryker\\model Training\\val.mp4\"\n",
    "\n",
    "    # Convert frames to video\n",
    "    convert_frames_to_video(input_folder_path, output_video_path)\n"
   ]
  },
  {
   "cell_type": "markdown",
   "id": "08f4bc87-5234-429f-98cd-e614132e1e72",
   "metadata": {},
   "source": [
    "# Merging Segmented RGB images to Video"
   ]
  },
  {
   "cell_type": "code",
   "execution_count": 15,
   "id": "60b17fab-cbef-43d6-aaac-1c40ea76acdd",
   "metadata": {},
   "outputs": [
    {
     "name": "stdout",
     "output_type": "stream",
     "text": [
      "All images have been saved in the destination folder with modified filenames.\n"
     ]
    }
   ],
   "source": [
    "import os\n",
    "import re\n",
    "import shutil\n",
    "\n",
    "# Source folder path containing the images\n",
    "source_folder_path = r\"C:\\Users\\srika\\OneDrive\\Desktop\\New folder\\Final_Stryker\\model Training\\predictions\\DeepLabV3plus\\EfficientNetV2M-new\\val\\rgb\"\n",
    "\n",
    "# Destination folder path to save the modified images\n",
    "destination_folder_path = r\"C:\\Users\\srika\\OneDrive\\Desktop\\New folder\\Final_Stryker\\model Training\\tempo\\seg\"\n",
    "\n",
    "# Create the destination folder if it doesn't exist\n",
    "os.makedirs(destination_folder_path, exist_ok=True)\n",
    "\n",
    "# Iterate over all the image filenames in the source folder\n",
    "for filename in os.listdir(source_folder_path):\n",
    "    # Check if the filename ends with '.png'\n",
    "    if filename.endswith('.png'):\n",
    "        # Construct the full path to the source image file\n",
    "        source_image_path = os.path.join(source_folder_path, filename)\n",
    "\n",
    "        # Extract the sequence of numbers from the image name using regular expressions\n",
    "        sequence_numbers = re.findall(r'\\d+', filename)\n",
    "\n",
    "        # Convert the sequence of numbers to a numeric value\n",
    "        numeric_value = int(''.join(sequence_numbers))\n",
    "\n",
    "        # Construct the new filename with the numeric value\n",
    "        new_filename = '{:06d}.png'.format(numeric_value)\n",
    "\n",
    "        # Construct the full path to the destination image file\n",
    "        destination_image_path = os.path.join(destination_folder_path, new_filename)\n",
    "\n",
    "        # Copy the source image file to the destination folder with the new filename\n",
    "        shutil.copyfile(source_image_path, destination_image_path)\n",
    "\n",
    "print(\"All images have been saved in the destination folder with modified filenames.\")"
   ]
  },
  {
   "cell_type": "code",
   "execution_count": 16,
   "id": "5f44b806-518e-4633-85d6-bc074cdc1ca8",
   "metadata": {},
   "outputs": [
    {
     "name": "stdout",
     "output_type": "stream",
     "text": [
      "Video created successfully:  C:\\Users\\srika\\OneDrive\\Desktop\\New folder\\Final_Stryker\\model Training\\val_seg.mp4\n"
     ]
    }
   ],
   "source": [
    "import os\n",
    "import cv2\n",
    "\n",
    "def convert_frames_to_video(input_folder, output_file, fps=3):\n",
    "    '''\n",
    "    Function to write a sequence of frames into a video.\n",
    "\n",
    "    Arguments:\n",
    "        input_folder: str - path to the folder containing input images.\n",
    "        output_file: str - path to the output video file.\n",
    "        fps: int - frames per second for the output video (default is 25).\n",
    "    '''\n",
    "\n",
    "    # Get list of image files in the input folder\n",
    "    img_files = [file for file in os.listdir(input_folder) if file.endswith('.png')]\n",
    "\n",
    "    # Sort the image files based on their numeric value\n",
    "    img_files.sort(key=lambda x: int(''.join(filter(str.isdigit, x))))\n",
    "\n",
    "    # Read the first image to get frame size\n",
    "    first_img = cv2.imread(os.path.join(input_folder, img_files[0]))\n",
    "    height, width, channels = first_img.shape\n",
    "\n",
    "    # Define the codec for the video writer\n",
    "    fourcc = cv2.VideoWriter_fourcc(*'mp4v')\n",
    "\n",
    "    # Create video writer object\n",
    "    out = cv2.VideoWriter(output_file, fourcc, fps, (width, height))\n",
    "\n",
    "    # Write frames to video\n",
    "    for img_file in img_files:\n",
    "        img_path = os.path.join(input_folder, img_file)\n",
    "        img = cv2.imread(img_path)\n",
    "        out.write(img)\n",
    "\n",
    "    # Release video writer and destroy any remaining OpenCV windows\n",
    "    out.release()\n",
    "    cv2.destroyAllWindows()\n",
    "\n",
    "    print(\"Video created successfully: \", output_file)\n",
    "\n",
    "if __name__ == '__main__':\n",
    "    # Input and output file paths\n",
    "    input_folder_path = r\"C:\\Users\\srika\\OneDrive\\Desktop\\New folder\\Final_Stryker\\model Training\\tempo\\seg\"\n",
    "    output_video_path = r\"C:\\Users\\srika\\OneDrive\\Desktop\\New folder\\Final_Stryker\\model Training\\val_seg.mp4\"\n",
    "\n",
    "    # Convert frames to video\n",
    "    convert_frames_to_video(input_folder_path, output_video_path)\n"
   ]
  },
  {
   "cell_type": "code",
   "execution_count": 17,
   "id": "595bb42e-1c42-4c85-9333-8e652cfa7431",
   "metadata": {},
   "outputs": [
    {
     "name": "stdout",
     "output_type": "stream",
     "text": [
      "Concatenated video saved as C:\\Users\\srika\\OneDrive\\Desktop\\New folder\\Final_Stryker\\model Training\\val_concat.mp4\n"
     ]
    }
   ],
   "source": [
    "import cv2\n",
    "\n",
    "# Path to the input videos\n",
    "video1_path = r\"C:\\Users\\srika\\OneDrive\\Desktop\\New folder\\Final_Stryker\\model Training\\val.mp4\"\n",
    "video2_path = r\"C:\\Users\\srika\\OneDrive\\Desktop\\New folder\\Final_Stryker\\model Training\\val_seg.mp4\"\n",
    "\n",
    "# Load the videos\n",
    "video1 = cv2.VideoCapture(video1_path)\n",
    "video2 = cv2.VideoCapture(video2_path)\n",
    "\n",
    "# Get the width and height of the videos\n",
    "width = int(video1.get(cv2.CAP_PROP_FRAME_WIDTH))\n",
    "height = int(video1.get(cv2.CAP_PROP_FRAME_HEIGHT))\n",
    "frame_rate = int(video1.get(cv2.CAP_PROP_FPS))\n",
    "# Create a VideoWriter object to save the concatenated video\n",
    "output_path = r'C:\\Users\\srika\\OneDrive\\Desktop\\New folder\\Final_Stryker\\model Training\\val_concat.mp4'\n",
    "fourcc = cv2.VideoWriter_fourcc(*'mp4v')  # Codec for the output video\n",
    "output = cv2.VideoWriter(output_path, fourcc, frame_rate, (width * 2, height))\n",
    "\n",
    "# Read frames from the videos and concatenate them\n",
    "while True:\n",
    "    ret1, frame1 = video1.read()\n",
    "    ret2, frame2 = video2.read()\n",
    "\n",
    "    # Break the loop if either of the videos has reached the end\n",
    "    if not ret1 or not ret2:\n",
    "        break\n",
    "\n",
    "    # Resize video2 to match the height of video1\n",
    "    frame2_resized = cv2.resize(frame2, (width, height))\n",
    "\n",
    "    # Concatenate the frames side by side\n",
    "    concatenated_frame = cv2.hconcat([frame1, frame2_resized])\n",
    "\n",
    "    # Write the concatenated frame to the output video\n",
    "    output.write(concatenated_frame)\n",
    "\n",
    "# Release the video capture objects\n",
    "video1.release()\n",
    "video2.release()\n",
    "\n",
    "# Release the VideoWriter object\n",
    "output.release()\n",
    "\n",
    "# Print message when done\n",
    "print(f'Concatenated video saved as {output_path}')\n"
   ]
  },
  {
   "cell_type": "code",
   "execution_count": null,
   "id": "0aa1e34d-09c1-493e-bfb7-97d00569847f",
   "metadata": {},
   "outputs": [],
   "source": []
  }
 ],
 "metadata": {
  "kernelspec": {
   "display_name": "Python 3 (ipykernel)",
   "language": "python",
   "name": "python3"
  },
  "language_info": {
   "codemirror_mode": {
    "name": "ipython",
    "version": 3
   },
   "file_extension": ".py",
   "mimetype": "text/x-python",
   "name": "python",
   "nbconvert_exporter": "python",
   "pygments_lexer": "ipython3",
   "version": "3.9.7"
  }
 },
 "nbformat": 4,
 "nbformat_minor": 5
}
